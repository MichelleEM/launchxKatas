{
 "cells": [
  {
   "cell_type": "markdown",
   "metadata": {},
   "source": [
    "## Ejercicio1 - Utilizar operadores aritméticos\n",
    "Operadores aritméticos en Python\n",
    "\n",
    "Python proporciona operadores aritméticos comunes para que puedas realizar operaciones matemáticas en tu código. Estos incluyen las cuatro operaciones principales de suma, resta, multiplicación y división.\n",
    "\n",
    "Exploremos cómo podemos crear un programa que pueda calcular la distancia entre dos planetas. Comenzaremos usando dos distancias de planetas: Tierra (149.597.870 km) y Júpiter (778.547.200 km)."
   ]
  },
  {
   "cell_type": "code",
   "execution_count": 1,
   "metadata": {},
   "outputs": [],
   "source": [
    "distancia_tierra = 149597870\n",
    "distancia_jupiter = 778547200"
   ]
  },
  {
   "cell_type": "markdown",
   "metadata": {},
   "source": [
    "Realizar la operación\n",
    "\n",
    "Con los valores obtenidos, es el momento de añadir el código para realizar la operación. Restarás el primer planeta del segundo para determinar la distancia en kilómetros. A continuación, puedes convertir la distancia del kilómetro en millas multiplicándola por 1.609344.\n"
   ]
  },
  {
   "cell_type": "code",
   "execution_count": 2,
   "metadata": {},
   "outputs": [
    {
     "name": "stdout",
     "output_type": "stream",
     "text": [
      "628949330\n",
      "390577533.93\n"
     ]
    }
   ],
   "source": [
    "distancia_km = distancia_jupiter - distancia_tierra\n",
    "milla = 0.621\n",
    "print(distancia_km)\n",
    "distancia_millas = distancia_km * milla\n",
    "print(distancia_millas)"
   ]
  },
  {
   "cell_type": "markdown",
   "metadata": {},
   "source": [
    "## Ejercicio 2: convierte cadenas en números y usa valores absolutos\n",
    "Crear una aplicación para trabajar con números y entrada de usuario\n",
    "\n",
    "Con frecuencia, deberás convertir los valores de cadena en números para realizar correctamente diferentes operaciones o determinar el valor absoluto de un número.\n",
    "\n",
    "Para crear nuestra aplicación, queremos leer la distancia del sol para dos planetas, y luego mostrar la distancia entre los planetas. Haremos esto usando input para leer los valores, int para convertir a entero y luego abs para convertir el resultado en su valor absoluto.\n",
    "\n",
    "Lee los valores\n",
    "\n",
    "Usando input, agrega el código para leer la distancia del sol para cada planeta, considerando 2 planetas.\n"
   ]
  },
  {
   "cell_type": "code",
   "execution_count": 18,
   "metadata": {},
   "outputs": [],
   "source": [
    "primer_planeta = input(\"Introduzca la distancia del sol para el primer planeta\")\n",
    "segundo_planeta = input(\"Introduzca la distancia del sol para el primer segundo planeta\")"
   ]
  },
  {
   "cell_type": "markdown",
   "metadata": {},
   "source": [
    "\n",
    "Convertir a número\n",
    "\n",
    "Debido a que input devuelve valores de cadena, necesitamos convertirlos en números. Para nuestro ejemplo, usaremos int\n"
   ]
  },
  {
   "cell_type": "code",
   "execution_count": 19,
   "metadata": {},
   "outputs": [],
   "source": [
    "primer_planeta = int(primer_planeta)\n",
    "segundo_planeta = int(segundo_planeta)"
   ]
  },
  {
   "cell_type": "markdown",
   "metadata": {},
   "source": [
    "\n",
    "Realizar el cálculo y convertir a valor absoluto\n",
    "\n",
    "Con los valores almacenados como números, ahora puedes agregar el código para realizar el cálculo, restando el primer planeta del segundo. Debido a que el segundo planeta podría ser un número mayor, usarás abs para convertirlo a un valor absoluto. También agregarás el código para mostrar el resultado en millas multiplicando la distancia del kilómetro por 0.621\n"
   ]
  },
  {
   "cell_type": "code",
   "execution_count": 20,
   "metadata": {},
   "outputs": [
    {
     "name": "stdout",
     "output_type": "stream",
     "text": [
      "Resultado en KM\n",
      "10\n",
      "Resultado en Millas\n",
      "6.21\n"
     ]
    }
   ],
   "source": [
    "distancia_km = primer_planeta - segundo_planeta\n",
    "print(\"Resultado en KM\")\n",
    "print(abs(distancia_km))\n",
    "milla = 0.621\n",
    "distancia_millas = distancia_km * milla\n",
    "print(\"Resultado en Millas\")\n",
    "print(abs(distancia_millas))"
   ]
  }
 ],
 "metadata": {
  "interpreter": {
   "hash": "011b834adb2a32744fadfca342e9a16a511d5d4f875e989fe0749778f236904a"
  },
  "kernelspec": {
   "display_name": "Python 3.10.2 64-bit",
   "language": "python",
   "name": "python3"
  },
  "language_info": {
   "codemirror_mode": {
    "name": "ipython",
    "version": 3
   },
   "file_extension": ".py",
   "mimetype": "text/x-python",
   "name": "python",
   "nbconvert_exporter": "python",
   "pygments_lexer": "ipython3",
   "version": "3.10.2"
  },
  "orig_nbformat": 4
 },
 "nbformat": 4,
 "nbformat_minor": 2
}
