{
 "cells": [
  {
   "cell_type": "markdown",
   "metadata": {},
   "source": [
    "## Ejercicio - Escribir declaraciones if, else, y elif\n",
    "\n",
    "Las instrucciones If te permiten ejecutar condicionalmente código Python. Se usan comúnmente en Python para \"tomar decisiones\" sobre lo que debería suceder a continuación mientras se ejecuta un programa.\n",
    "\n",
    "Para crear una instrucción if en Python, define una expresión de prueba que pueda tener un valor True o False, seguido de un bloque de código con sangría que se ejecutará si se cumple la condición."
   ]
  },
  {
   "cell_type": "code",
   "execution_count": 3,
   "metadata": {},
   "outputs": [
    {
     "name": "stdout",
     "output_type": "stream",
     "text": [
      "BIENVENIDO AL PROGRAMA DE SENTENCIAS\n",
      "A ES MAYOR QUE B\n"
     ]
    }
   ],
   "source": [
    "print(\"BIENVENIDO AL PROGRAMA DE SENTENCIAS\")\n",
    "a = 587\n",
    "b = 458\n",
    "if a == b:\n",
    "    print(\"A ES IGUAL QUE B\")\n",
    "elif a > b:\n",
    "    print(\"A ES MAYOR QUE B\")\n",
    "else:\n",
    "    print(\"A ES MENOR QUE B\")"
   ]
  },
  {
   "cell_type": "code",
   "execution_count": 5,
   "metadata": {},
   "outputs": [
    {
     "name": "stdout",
     "output_type": "stream",
     "text": [
      "PROGRAMA DE ADVERTENCIA SOBRE ASTEROIDES\n",
      "ADVERTENCIA, UN ASTEROIDE SE ACERCA AL PLANETA TIERRA\n"
     ]
    }
   ],
   "source": [
    "asteroide = 49\n",
    "print(\"PROGRAMA DE ADVERTENCIA SOBRE ASTEROIDES\")\n",
    "if asteroide > 25:\n",
    "    print(\"ADVERTENCIA, UN ASTEROIDE SE ACERCA AL PLANETA TIERRA\")\n",
    "else:\n",
    "    print(\"NO HAY NINGÚN ASTEROIDE CERCA DEL PLANETA TIERRA\")"
   ]
  },
  {
   "cell_type": "code",
   "execution_count": 6,
   "metadata": {},
   "outputs": [
    {
     "name": "stdout",
     "output_type": "stream",
     "text": [
      "PROGRAMA DE ADVERTENCIA SOBRE ASTEROIDES\n",
      "POR EL MOMENTO NO HAY ASTEROIDES CERCA DEL PLANETA TIERRA\n"
     ]
    }
   ],
   "source": [
    "asteroide = 19\n",
    "print(\"PROGRAMA DE ADVERTENCIA SOBRE ASTEROIDES\")\n",
    "if asteroide > 20:\n",
    "    print(\"VOLTEA AL CIELO, HAY UN ASTEROIDE\")\n",
    "elif asteroide == 20:\n",
    "    print(\"VOLTEA AL CIELO, HAY UN ASTEROIDE\")\n",
    "else:\n",
    "    print(\"POR EL MOMENTO NO HAY ASTEROIDES CERCA DEL PLANETA TIERRA\")"
   ]
  },
  {
   "cell_type": "code",
   "execution_count": 1,
   "metadata": {},
   "outputs": [
    {
     "name": "stdout",
     "output_type": "stream",
     "text": [
      "PROGRAMA DE ADVERTENCIA SOBRE ASTEROIDES\n",
      "TODO BIEN POR EL MOMENTO\n"
     ]
    }
   ],
   "source": [
    "velocidadAsteroide = 25\n",
    "tamAsteoride = 40\n",
    "print(\"PROGRAMA DE ADVERTENCIA SOBRE ASTEROIDES\")\n",
    "if velocidadAsteroide > 25 and tamAsteoride > 25:\n",
    "    print(\"CUIDADO HAY UN ASTEROIDE ACERCANDOSE AL PLANETA TIERRA\")\n",
    "elif velocidadAsteroide >= 20:\n",
    "    print(\"VOLTEA AL CIELO, HAY UN RAYO DE LUZ\")\n",
    "elif velocidadAsteroide < 25:\n",
    "    print(\"TODO BIEN POR EL MOMENTO\")\n",
    "else:\n",
    "    print(\"TODO BIEN POR EL MOMENTO\")"
   ]
  }
 ],
 "metadata": {
  "interpreter": {
   "hash": "011b834adb2a32744fadfca342e9a16a511d5d4f875e989fe0749778f236904a"
  },
  "kernelspec": {
   "display_name": "Python 3.10.2 64-bit",
   "language": "python",
   "name": "python3"
  },
  "language_info": {
   "codemirror_mode": {
    "name": "ipython",
    "version": 3
   },
   "file_extension": ".py",
   "mimetype": "text/x-python",
   "name": "python",
   "nbconvert_exporter": "python",
   "pygments_lexer": "ipython3",
   "version": "3.10.2"
  },
  "orig_nbformat": 4
 },
 "nbformat": 4,
 "nbformat_minor": 2
}
