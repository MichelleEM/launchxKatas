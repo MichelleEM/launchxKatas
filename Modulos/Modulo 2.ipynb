{
 "cells": [
  {
   "cell_type": "markdown",
   "metadata": {},
   "source": [
    "## Trabajar con paquetes\n",
    "\n",
    "La mayoría de los programas que escribas se basarán en código escrito por otros. Este código a menudo viene en forma de paquetes, que son módulos externos o bibliotecas que se incluyen en el proyecto. Al igual que con cualquier proyecto que requiera un conjunto de recursos, es importante considerar cómo te asegurarás de que los recursos adecuados estén disponibles para tu programa.\n",
    "\n",
    "Un buen comienzo es aprender a administrar tu programa. Una forma de hacerlo es pensar en el programa como un proyecto. Python aborda esto mediante el uso de algo llamado entornos virtuales.\n",
    "## ¿Qué es un entorno virtual?\n",
    "\n",
    "Tienes una máquina de desarrollo. En esa máquina, es posible que tengas una versión de Python instalada o una versión de una biblioteca que quieras usar. ¿Qué sucede cuando mueves tu programa a una máquina que tiene una versión diferente de Python instalada o diferentes versiones de las bibliotecas de las que depende?\n",
    "\n",
    "Una cosa que no deseas hacer es asumir que tu programa funcionará y que puede instalar la última versión de las bibliotecas de las que depende. Si haces eso, podrías terminar destruyendo la capacidad de los otros programas para funcionar en la máquina de destino. La solución es encontrar una manera de que tu aplicación funcione de forma aislada.\n",
    "\n",
    "La solución de Python para estos problemas es un entorno virtual. Un entorno virtual es una copia autónoma de todo lo necesario para ejecutar el programa. Esto incluye el intérprete de Python y cualquier biblioteca que su programa necesite. Mediante el uso de un entorno virtual, puedes asegurarte de que tu programa tendrá acceso a las versiones y recursos correctos para ejecutarse correctamente.\n",
    "\n",
    "El flujo de trabajo básico se ve así:\n",
    "\n",
    "    Crear un entorno virtual que no afecte al resto de la máquina.\n",
    "    Ingresar al entorno virtual, donde especifique la versión de Python y las bibliotecas que necesita.\n",
    "    Desarrolla tu programa.\n",
    "\n",
    "## Crear un entorno virtual\n",
    "\n",
    "Para crear un entorno virtual, llama al módulo. El módulo espera un nombre como argumento venv.\n",
    "\n",
    "Sigue estos pasos:\n",
    "\n",
    "Desde tu terminal ve al directorio donde deseas guardar tu proyecto. (Documentos/TuFolderPreferido) Ejemplo en windows: cd Documents/TuFolderPreferido\n",
    "\n",
    "Utiliza el siguiente comando para llamar al módulo venv. El comando difiere ligeramente dependiendo de tu sistema operativo.\n",
    "\n",
    "En consola: python3 -m venv env\n",
    "\n",
    "Donde:\n",
    "\n",
    "    python3: La versión de python a utilizar.\n",
    "    venv: Llamada al módulo venv conocido como virtual environment.\n",
    "    env: Nombre de nuestro entorno virtual.\n",
    "\n",
    "En este punto, se crean algunos directorios:"
   ]
  },
  {
   "cell_type": "markdown",
   "metadata": {},
   "source": [
    "-/env\n",
    "  /bin\n",
    "  /include\n",
    "  lib"
   ]
  },
  {
   "cell_type": "markdown",
   "metadata": {},
   "source": [
    "Tu entorno necesita el directorio venv para realizar un seguimiento de detalles como qué versión de Python y qué bibliotecas está utilizando. No coloque los archivos de programa en el directorio venv. Te sugerimos que coloques tus archivos en el directorio srco algo similar. La estructura del proyecto podría verse así:"
   ]
  },
  {
   "cell_type": "markdown",
   "metadata": {},
   "source": [
    "  -/env\n",
    "  /src\n",
    "    program.py  "
   ]
  },
  {
   "cell_type": "markdown",
   "metadata": {},
   "source": [
    "## Activar el entorno virtual\n",
    "\n",
    "En este punto, tienes un entorno virtual, pero no has comenzado a usarlo. Para usarlo, debes activarlo llamando activate a un script en tu directorio env.\n",
    "\n",
    "Así es como puede verse la activación en distintos sistemas operativos."
   ]
  },
  {
   "cell_type": "markdown",
   "metadata": {},
   "source": [
    "-Bash | Consola\n",
    "  Windows\n",
    "  env\\bin\\activate\n",
    "\n",
    "-Linux, WSL o macOS\n",
    "  source env/bin/activate"
   ]
  },
  {
   "cell_type": "markdown",
   "metadata": {},
   "source": [
    "Llamar al comando activate cambia el mensaje de salida de la consola. Ahora está precedido con (env) y se parece a este ejemplo:"
   ]
  },
  {
   "cell_type": "markdown",
   "metadata": {},
   "source": [
    "  -Bash | Consola\n",
    "  (env) -> path/to/project "
   ]
  },
  {
   "cell_type": "markdown",
   "metadata": {},
   "source": [
    "Ahora, ya estás dentro de tu entorno virtual. Cualquier cosa que hagas sucede de forma aislada.\n",
    "## ¿Qué es un paquete?\n",
    "\n",
    "Una de las principales ventajas de utilizar bibliotecas externas es acelerar el tiempo de desarrollo de tu programa. Puedes obtener una biblioteca de este tipo en Internet. Pero al buscar e instalar estas bibliotecas a través de un entorno virtual, te aseguras de instalar estas bibliotecas solo para el entorno virtual y no globalmente para toda la máquina.\n",
    "## Instalar un paquete\n",
    "\n",
    "Instalar un paquete mediante pip. El comando pip utiliza el Python Package Index, o PyPi para abreviar, para saber dónde obtener los paquetes. Puedes visitar el sitio web de PyPi para conocer qué paquetes están disponibles.\n",
    "\n",
    "Para instalar un paquete, ejecute , como en este ejemplo: pip install\n",
    "\n",
    "Dato curioso: Si estás desde un notebook se ejecuta así: !pip install python-dateutil Con signo de admiración al inicio. Sin embargo, no estamos trabajando con notebooks ahorita, estamos ejecutando todo por terminal (consola, bash, cli, cmd, como sea que le digas)."
   ]
  },
  {
   "cell_type": "markdown",
   "metadata": {},
   "source": [
    "  -Bash | Consola\n",
    "  pip install python-dateutil"
   ]
  },
  {
   "cell_type": "markdown",
   "metadata": {},
   "source": [
    "Si ejecutas el comando anterior, descargará e instalará dateutil, un paquete para analizar el formato de archivo .yml. Después de instalar el paquete, puedes verlo en la lista si expande el directorio lib en env, así:"
   ]
  },
  {
   "cell_type": "markdown",
   "metadata": {},
   "source": [
    "  -Mensaje de salida en consola\n",
    "  /env\n",
    "    /lib\n",
    "      /dateutil"
   ]
  },
  {
   "cell_type": "markdown",
   "metadata": {},
   "source": [
    "Para ver qué paquetes están ahora instalados en tu entorno virtual, puedes ejecutar pip freeze. Este comando produce una lista de paquetes instalados en el terminal:\n",
    "\n",
    "Recuerda: Si deseas instalar un paquete desde un notebook se ejecuta con signo de admiración al inicio. !pip freeze Sin embargo, no estamos trabajando con notebooks ahorita, estamos ejecutando todo por terminal (consola, bash, cli, cmd, como sea que le digas)."
   ]
  },
  {
   "cell_type": "markdown",
   "metadata": {},
   "source": [
    "-Mensaje de salida en consola\n",
    "  python-dateutil==2.8.2\n",
    "  six==1.16.0"
   ]
  },
  {
   "cell_type": "markdown",
   "metadata": {},
   "source": [
    "Contiene algo más que sólo pipdate por que en sí misma se basan otras bibliotecas.\n",
    "\n",
    "Para asegurarte de que estos paquetes solo existen en tu entorno virtual, intenta salir de ese entorno llamando al comando deactivate:"
   ]
  },
  {
   "cell_type": "markdown",
   "metadata": {},
   "source": [
    "-Bash | Consola\n",
    "  deactivate"
   ]
  },
  {
   "cell_type": "markdown",
   "metadata": {},
   "source": [
    "Observa cómo cambia el mensaje de la terminal. Ya no está precedido por (env) y ha regresado a su estado anterior:"
   ]
  },
  {
   "cell_type": "markdown",
   "metadata": {},
   "source": [
    "  -Bash | Consola\n",
    "  path/to/project"
   ]
  },
  {
   "cell_type": "markdown",
   "metadata": {},
   "source": [
    "Si ejecutas el comando pip freeze, verás una lista mucho más larga de dependencias. Esta lista indica que verás todos los paquetes instalados en tu máquina en lugar de solo lo que está instalado en tu entorno virtual.\n",
    "## Más formas de instalar un paquete\n",
    "\n",
    "También puedes utilizar los siguientes comandos para instalar un paquete:\n",
    "\n",
    "    Teniendo un conjunto de archivos en tu máquina e instalándolos desde esa fuente:"
   ]
  },
  {
   "cell_type": "markdown",
   "metadata": {},
   "source": [
    "-Bash | Consola\n",
    "cd <to where the package is on your machine>\n",
    "python3 -m pip install ."
   ]
  },
  {
   "cell_type": "markdown",
   "metadata": {},
   "source": [
    "Instalar desde un repositorio de GitHub que nos proporciona el control de versiones:"
   ]
  },
  {
   "cell_type": "markdown",
   "metadata": {},
   "source": [
    "-git+https://github.com/your-repo.git"
   ]
  },
  {
   "cell_type": "markdown",
   "metadata": {},
   "source": [
    "Instalar desde un archivo comprimido:"
   ]
  },
  {
   "cell_type": "markdown",
   "metadata": {},
   "source": [
    "-python3 -m pip install package.tar.gz"
   ]
  },
  {
   "cell_type": "markdown",
   "metadata": {},
   "source": [
    "## Usar un paquete instalado\n",
    "\n",
    "Ahora tienes un paquete instalado. ¿Cómo se usa en el código?\n",
    "\n",
    "Asegúrate de tener un directorio para tus archivos. Te sugerimos que llames al directorio (folder) src y agregues un archivo Python llamado app.py. Ahora agrega un poco de código para llamar al comando pipdate:"
   ]
  },
  {
   "cell_type": "code",
   "execution_count": 1,
   "metadata": {},
   "outputs": [
    {
     "ename": "IndentationError",
     "evalue": "unexpected indent (806781213.py, line 2)",
     "output_type": "error",
     "traceback": [
      "\u001b[1;36m  Input \u001b[1;32mIn [1]\u001b[1;36m\u001b[0m\n\u001b[1;33m    from dateutil.relativedelta import *\u001b[0m\n\u001b[1;37m    ^\u001b[0m\n\u001b[1;31mIndentationError\u001b[0m\u001b[1;31m:\u001b[0m unexpected indent\n"
     ]
    }
   ],
   "source": [
    "from datetime import *\n",
    "  from dateutil.relativedelta import *\n",
    "  now = datetime.now()\n",
    "  print(now)\n",
    "\n",
    "  now = now + relativedelta(months=1, weeks=1, hour=10)\n",
    "\n",
    "  print(now)"
   ]
  }
 ],
 "metadata": {
  "interpreter": {
   "hash": "011b834adb2a32744fadfca342e9a16a511d5d4f875e989fe0749778f236904a"
  },
  "kernelspec": {
   "display_name": "Python 3.10.2 64-bit",
   "language": "python",
   "name": "python3"
  },
  "language_info": {
   "codemirror_mode": {
    "name": "ipython",
    "version": 3
   },
   "file_extension": ".py",
   "mimetype": "text/x-python",
   "name": "python",
   "nbconvert_exporter": "python",
   "pygments_lexer": "ipython3",
   "version": "3.10.2"
  },
  "orig_nbformat": 4
 },
 "nbformat": 4,
 "nbformat_minor": 2
}
